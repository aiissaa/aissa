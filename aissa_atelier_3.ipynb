{
  "nbformat": 4,
  "nbformat_minor": 0,
  "metadata": {
    "colab": {
      "provenance": [],
      "authorship_tag": "ABX9TyPcdKMA8/wbVwc70wPxVdb1",
      "include_colab_link": true
    },
    "kernelspec": {
      "name": "python3",
      "display_name": "Python 3"
    },
    "language_info": {
      "name": "python"
    }
  },
  "cells": [
    {
      "cell_type": "markdown",
      "metadata": {
        "id": "view-in-github",
        "colab_type": "text"
      },
      "source": [
        "<a href=\"https://colab.research.google.com/github/aiissaa/aissa/blob/main/aissa_atelier_3.ipynb\" target=\"_parent\"><img src=\"https://colab.research.google.com/assets/colab-badge.svg\" alt=\"Open In Colab\"/></a>"
      ]
    },
    {
      "cell_type": "markdown",
      "source": [
        "nom et prenom :berrouhou aissa /\n",
        "master : dsef"
      ],
      "metadata": {
        "id": "4uYi0cQCO4tN"
      }
    },
    {
      "cell_type": "markdown",
      "source": [
        "Définir une classe Vecteur2D avec un constructeur fournissant les coordonnées par\n",
        "défaut d’un vecteur du plan (par exemple : x = 0 et y = 0).\n",
        "Dans le programme principal, instanciez un Vecteur2D sans paramètre,\n",
        "un Vecteur2D avec ses deux paramètres, et affichez-les.\n",
        "\n",
        "Enrichissez la classe Vecteur2D précédente en lui ajoutant une méthode d’affichage et\n",
        "une méthode de surcharge d’addition de deux vecteurs du plan.\n",
        "Dans le programme principal, instanciez deux Vecteur2D, affichez-les et affichez leur\n",
        "somme."
      ],
      "metadata": {
        "id": "U5xfy2nhNeCi"
      }
    },
    {
      "cell_type": "code",
      "source": [
        "class Vecteur2D:\n",
        "    # Constructor de la classe Vecteur2D\n",
        "    def __init__(self,x=0,y=0):\n",
        "        self.x = x\n",
        "        self.y = y\n",
        "\n",
        "    # La méthode toString() pour Python\n",
        "    def __str__(self):\n",
        "        return f\"({self.x}, {self.y})\"\n",
        "\n",
        "    # La méthode afficher()\n",
        "    def afficher(self):\n",
        "        return \"(\" + str(self.x) + \", \"+ str(self.y) + \")\"\n",
        "\n",
        "    # Méthode de surcharge d'addition de deux vecteurs du plan\n",
        "    def __add__(self, vecteur2D):\n",
        "        return Vecteur2D(self.x + vecteur2D.x, self.y + vecteur2D.y)\n",
        "\n",
        "\n",
        "# Un vecteur 2D sans paramètre\n",
        "vect1 = Vecteur2D()\n",
        "\n",
        "# Un vecteur 2D avec ses deux paramètre\n",
        "vect2 = Vecteur2D(2,4)\n",
        "\n",
        "# Affichage des vecteurs comme un tuple\n",
        "print(vect1)\n",
        "print(vect2)\n",
        "\n",
        "# Affichage des vecteurs avec la méthode afficher()\n",
        "print(vect1.afficher())\n",
        "\n",
        "# La somme de deux vecteurs du plan\n",
        "vect3 = vect1 + vect2\n",
        "\n",
        "# L'affichage de la somme de deux vecteurs du plan\n",
        "print(vect3.afficher())"
      ],
      "metadata": {
        "id": "yRSfOyevNfkn"
      },
      "execution_count": null,
      "outputs": []
    },
    {
      "cell_type": "markdown",
      "source": [],
      "metadata": {
        "id": "Y7q4WU_YOF2c"
      }
    },
    {
      "cell_type": "markdown",
      "source": [
        "Définir une classe Point avec un constructeur fournissant les coordonnées par défaut\n",
        "d’un point du plan (par exemple : x = 0.0 et y = 0.0).\n",
        "Définir une classe Segment dont le constructeur possède quatre paramètres : deux\n",
        "pour l’origine et deux pour l’extrémité. Ce constructeur définit deux\n",
        "attributs : orig et extrem, instances de la classe Point. De cette manière, vous concevez\n",
        "une classe composite : la classe Segment est composée de deux instances de la\n",
        "classe Point.\n",
        "Ajouter une méthode d’affichage.\n",
        "Enfin écrire un auto-test qui affiche une instance de Segment initialisée par les valeurs\n",
        "1, 2, 3 et 4."
      ],
      "metadata": {
        "id": "tpnbzmwCORYA"
      }
    },
    {
      "cell_type": "code",
      "source": [
        "# La classe Point\n",
        "class Point:\n",
        "    # Constructor de la classe Point\n",
        "    def __init__(self, x=0.0, y=0.0):\n",
        "        self.x = x\n",
        "        self.y = y\n",
        "\n",
        "    # La méthode toString() pour la classe Point\n",
        "    def __str__(self):\n",
        "        return f\"({self.x}, {self.y})\"\n",
        "\n",
        "# La classe Segment\n",
        "class Segment:\n",
        "    # Constructor de la classe Segment\n",
        "    def __init__(self, x1=0.0, y1=0.0, x2=0.0, y2=0.0):\n",
        "        self.orig = Point(x1, y1)\n",
        "        self.extrem = Point(x2, y2)\n",
        "    # La méthode toString() pour la classe Segment\n",
        "    def __str__(self):\n",
        "        return f\"Segment de {self.orig} à {self.extrem}\"\n",
        "print(\"---------------------------------\")\n",
        "# Une instance de la classe Point\n",
        "point = Point(1,4)\n",
        "\n",
        "# L'affichage de l'instance\n",
        "print(\"Le point \",point)\n",
        "\n",
        "print(\"---------------------------------\")\n",
        "# Une instance de la classe Segment\n",
        "segment = Segment(1, 2, 3, 4)\n",
        "\n",
        "# L'affichage de l'instance.\n",
        "print(segment)"
      ],
      "metadata": {
        "id": "h0ztwlnSOSfc"
      },
      "execution_count": null,
      "outputs": []
    },
    {
      "cell_type": "markdown",
      "source": [
        "Définir une classe Rectangle avec un constructeur donnant des valeurs\n",
        "(longueur et largeur) par défaut et un attribut nom = \"rectangle\", une méthode\n",
        "d’affichage et une méthode surface renvoyant la surface d’une instance.\n",
        "Définir une classe Carre héritant de Rectangle et qui surcharge l’attribut\n",
        "d’instance : nom = \"carré\".\n",
        "Dans le programme principal, instanciez un Rectangle et un Carre et affichez-les.\n",
        "Définir une classe Point avec un constructeur fournissant les coordonnées par défaut\n",
        "d’un point du plan (par exemple : x = 0.0 et y = 0.0)."
      ],
      "metadata": {
        "id": "zBofXHhvN0F7"
      }
    },
    {
      "cell_type": "code",
      "source": [
        "# Class Rectangle\n",
        "class Rectangle:\n",
        "\n",
        "    # Constructor de la classe Rectangle\n",
        "    def __init__(self, longueur, largeur):\n",
        "        self.name = \"rectangle\"\n",
        "        self.longueur = longueur\n",
        "        self.largeur = largeur\n",
        "\n",
        "    # La méthode de la surface \n",
        "    def surface(self):\n",
        "        return self.longueur * self.largeur\n",
        "\n",
        "    # La méthode afficher \n",
        "    def afficher(self):\n",
        "        print(\"{ \" + self.name + \" , longueur: \" + str(self.longueur) + \" , largeur: \" + str(self.largeur) + \" }\")\n",
        "\n",
        "# La classe Carré hirté de la classe Rectangle\n",
        "class Carre(Rectangle):\n",
        "\n",
        "    # Constructor de la classe Carré\n",
        "    def __init__(self, longueur):\n",
        "        # Constructor de la classe parent\n",
        "        super().__init__(longueur, longueur)\n",
        "        self.name = \"carré\"\n",
        "\n",
        "    # La méthode afficher (Polymorphisme)\n",
        "    def afficher(self):\n",
        "        print(\"{ \" + self.name + \" , longueur: \" + str(self.longueur) + \" }\")\n",
        "\n",
        "print(\"---------------------------------\")\n",
        "# Une instance de la classe Rectangle\n",
        "rect = Rectangle(13, 15)\n",
        "rect.afficher()\n",
        "print(rect.surface())\n",
        "print(\"---------------------------------\")\n",
        "# Une instance de la classe Carré\n",
        "carre = Carre(16)\n",
        "carre.afficher()\n",
        "print(carre.surface())"
      ],
      "metadata": {
        "id": "H1GlYQ34N1ep"
      },
      "execution_count": null,
      "outputs": []
    }
  ]
}
{
  "nbformat": 4,
  "nbformat_minor": 0,
  "metadata": {
    "colab": {
      "provenance": []
    },
    "kernelspec": {
      "name": "python3",
      "display_name": "Python 3"
    },
    "language_info": {
      "name": "python"
    }
  },
  "cells": [
    {
      "cell_type": "markdown",
      "source": [],
      "metadata": {
        "id": "Sa7GwrzjHBSg"
      }
    },
    {
      "cell_type": "markdown",
      "source": [
        "MASTER : master data science pour l'économie et la finance\n",
        "\n",
        "aissa berrouhou\n",
        "\n",
        "Module : Langage de programmation\n",
        "\n",
        "Enacdré par : Dr. EL AACHAK Lotfi\n",
        "\n",
        "Atelier 1\n",
        "\n",
        "1-Ecrire une fonction qui renvoie la puissance d’un nombre"
      ],
      "metadata": {
        "id": "mYK7onevHDMg"
      }
    },
    {
      "cell_type": "code",
      "source": [
        "def puissance (x,n):\n",
        "  p=1\n",
        "  for i in range (n):\n",
        "    p=p*x\n",
        "  return p\n",
        "print (puissance(int(input()),int(input()))) \n",
        "     "
      ],
      "metadata": {
        "id": "NdAK_v1rHJ-_"
      },
      "execution_count": null,
      "outputs": []
    },
    {
      "cell_type": "markdown",
      "source": [
        "2--Ecrire une fonction python qui calcul la factorielle d’un nombre donné\n",
        "\n"
      ],
      "metadata": {
        "id": "s-GswopzHTcg"
      }
    },
    {
      "cell_type": "code",
      "source": [
        "def factoriel (x):\n",
        "  if x==0 :\n",
        "    return 1\n",
        "  else :\n",
        "    f=x*factoriel(x-1)\n",
        "    return f\n",
        "print(factoriel(int(input())))"
      ],
      "metadata": {
        "id": "Wu-ccEcOHgd6"
      },
      "execution_count": null,
      "outputs": []
    },
    {
      "cell_type": "markdown",
      "source": [
        "3-Ecrire une fonction en Python pour trouver la somme des séries 1! / 1 + 2! / 2 + 3! / 3 + 4! / 4 + 5! / 5 en utilisant la fonction."
      ],
      "metadata": {
        "id": "l-aiwo2RH0Lo"
      }
    },
    {
      "cell_type": "code",
      "source": [
        "\n",
        "def factoriel (x):\n",
        "  if x==0 :\n",
        "    return 1\n",
        "  else :\n",
        "    f=x*factoriel(x-1)\n",
        "    return f\n",
        "n=int(input(\"veuillez saisir la valeur de n \"))\n",
        "s=0\n",
        "for i in range (1,n+1):\n",
        "  s=s+factoriel (i)/i\n",
        "print (s)\n",
        "     "
      ],
      "metadata": {
        "id": "ZUQSH-61H60Z"
      },
      "execution_count": null,
      "outputs": []
    },
    {
      "cell_type": "markdown",
      "source": [],
      "metadata": {
        "id": "md7dMjfcIBTZ"
      }
    },
    {
      "cell_type": "markdown",
      "source": [
        "4-Ecrire une fonction en Python pour convertir le nombre décimal en nombre binaire."
      ],
      "metadata": {
        "id": "VrrzOO2JIEJt"
      }
    },
    {
      "cell_type": "code",
      "source": [
        "def convertir(n):\n",
        "    if n > 1:\n",
        "        convertir(n // 2)\n",
        "    print(n % 2, end='')\n",
        "\n",
        "nb = int(input(\"Entrez un nombre decimal: \"))\n",
        "convertir(nb)\n",
        "     "
      ],
      "metadata": {
        "id": "OBtjs6LyIJlL"
      },
      "execution_count": null,
      "outputs": []
    },
    {
      "cell_type": "markdown",
      "source": [
        "5-Ecrire une fonction en Python pour compter les chiffres d'un nombre donné."
      ],
      "metadata": {
        "id": "EYKzZmWFIZEV"
      }
    },
    {
      "cell_type": "code",
      "source": [
        "\n",
        "def count_digits(n):\n",
        "  return len(str(n))\n",
        "num_digits = count_digits(int(input(\"entrer le nombre :\")))\n",
        "print(num_digits)\n",
        "     "
      ],
      "metadata": {
        "id": "cPuLFPzrIdfP"
      },
      "execution_count": null,
      "outputs": []
    },
    {
      "cell_type": "markdown",
      "source": [
        "6-Ecrire une fonction en Python pour calculer la somme des nombres de 1 à n."
      ],
      "metadata": {
        "id": "UhHiW2sqIhvi"
      }
    },
    {
      "cell_type": "code",
      "source": [
        "def sum_numbers(n):\n",
        " return sum(range(1, n+1))\n",
        "x=sum_numbers(int(input()))\n",
        "print(x)\n"
      ],
      "metadata": {
        "id": "59dDbKtXIl_7"
      },
      "execution_count": null,
      "outputs": []
    },
    {
      "cell_type": "markdown",
      "source": [
        "7-Ecrire une fonction Python pour trouver la fréquence d’un caractère dans une chaîne."
      ],
      "metadata": {
        "id": "Jualpyk9Iqkz"
      }
    },
    {
      "cell_type": "code",
      "source": [
        "def freq (string, char):\n",
        "    count = 0\n",
        "    for ch in string:\n",
        "        if ch == char:\n",
        "            count += 1\n",
        "    return count\n",
        "frequency = freq (\"aiisa assiaasiiia\", \"i\")\n",
        "print(frequency)"
      ],
      "metadata": {
        "colab": {
          "base_uri": "https://localhost:8080/"
        },
        "id": "a3ASkvfyIxE8",
        "outputId": "5905ee8c-6338-4e2b-cc49-c059b55043f2"
      },
      "execution_count": 1,
      "outputs": [
        {
          "output_type": "stream",
          "name": "stdout",
          "text": [
            "6\n"
          ]
        }
      ]
    },
    {
      "cell_type": "markdown",
      "source": [
        "8-Ecrire une fonction qui cherche un élément dans une matrice puis renvoi sa position « i,j»."
      ],
      "metadata": {
        "id": "IlUP8HkPJHem"
      }
    },
    {
      "cell_type": "code",
      "source": [
        "def search_matrix(matrix, element):\n",
        "    for i, row in enumerate(matrix):\n",
        "        for j, value in enumerate(row):\n",
        "            if value == element:\n",
        "                return (i, j)\n",
        "    return None\n",
        "pos = search_matrix([[1,0, 2, 3], [4,3, 5, 6], [7, 8, 8,9]], 9)\n",
        "print(pos)\n",
        "     "
      ],
      "metadata": {
        "colab": {
          "base_uri": "https://localhost:8080/"
        },
        "id": "VEWkTLBjJWwy",
        "outputId": "ff209ece-1b1a-40ec-dcde-a7da5dcf3c53"
      },
      "execution_count": 3,
      "outputs": [
        {
          "output_type": "stream",
          "name": "stdout",
          "text": [
            "(2, 3)\n"
          ]
        }
      ]
    },
    {
      "cell_type": "markdown",
      "source": [
        "9-Ecrire un programme python composé de plusieurs fonctions : • fonction qui envoi la valeur moyenne d’une liste • fonction qui renvoi le min ou max selon le choix de l ‘utilisateur • fonction qui renvoie le médian d ‘une liste • fonction qui renvoi le mode d’une liste • fonction qui calcul la variance"
      ],
      "metadata": {
        "id": "i7pRVu9bJa2o"
      }
    },
    {
      "cell_type": "code",
      "source": [
        "def average(numbers):\n",
        "    \"\"\"Calculate the average of a list of numbers.\"\"\"\n",
        "    return sum(numbers) / len(numbers)\n",
        "\n",
        "def min_or_max(numbers, choice):\n",
        "    \"\"\"Return the minimum or maximum value of a list of numbers, according to the user's choice.\"\"\"\n",
        "    if choice == \"min\":\n",
        "        return min(numbers)\n",
        "    elif choice == \"max\":\n",
        "        return max(numbers)\n",
        "    else:\n",
        "        return None\n",
        "\n",
        "def median(numbers):\n",
        "    \"\"\"Calculate the median of a list of numbers.\"\"\"\n",
        "    numbers.sort()\n",
        "    if len(numbers) % 2 == 0:\n",
        "    \n",
        "        return average([numbers[len(numbers) // 2 - 1], numbers[len(numbers) // 2]])\n",
        "    else:\n",
        "        \n",
        "        return numbers[len(numbers) // 2]\n",
        "\n",
        "def mode(numbers):\n",
        "    \"\"\"Calculate the mode of a list of numbers.\"\"\"\n",
        " \n",
        "    frequencies = {}\n",
        "    for number in numbers:\n",
        "        if number not in frequencies:\n",
        "            frequencies[number] = 1\n",
        "        else:\n",
        "            frequencies[number] += 1\n",
        "\n",
        "    sorted_frequencies = sorted(frequencies.items(), key=lambda x: x[1], reverse=True)\n",
        "\n",
        "    \n",
        "    return sorted_frequencies[0][0]\n",
        "\n",
        "def variance(numbers):\n",
        "    \"\"\"Calculate the variance of a list of numbers.\"\"\"\n",
        "    \n",
        "    mean = average(numbers)\n",
        "\n",
        "    sum_of_squared_differences = sum([(number - mean)**2 for number in numbers])\n",
        "\n",
        "    return sum_of_squared_differences / len(numbers)\n",
        "a=average([9,5,7,1,6])  \n",
        "m=median([3,5,1,7,0])  \n",
        "n=mode([6,4,2,0,2])  \n",
        "v=variance([7,5,1,7,9])\n",
        "mi=min_or_max([7,1,6,0,9], \"min\")  \n",
        "ma=min_or_max([9,0,7,8,5], \"max\")\n",
        "print(a)\n",
        "print(m)\n",
        "print(n)\n",
        "print(v)\n",
        "print(mi)\n",
        "print(ma)\n"
      ],
      "metadata": {
        "id": "iyALzRILJgFD"
      },
      "execution_count": null,
      "outputs": []
    }
  ]
}
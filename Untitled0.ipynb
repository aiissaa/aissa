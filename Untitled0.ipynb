{
  "nbformat": 4,
  "nbformat_minor": 0,
  "metadata": {
    "colab": {
      "provenance": [],
      "authorship_tag": "ABX9TyNpBlk9pycYzpc0RYz+zH5M",
      "include_colab_link": true
    },
    "kernelspec": {
      "name": "python3",
      "display_name": "Python 3"
    },
    "language_info": {
      "name": "python"
    }
  },
  "cells": [
    {
      "cell_type": "markdown",
      "metadata": {
        "id": "view-in-github",
        "colab_type": "text"
      },
      "source": [
        "<a href=\"https://colab.research.google.com/github/aiissaa/aissa/blob/main/Untitled0.ipynb\" target=\"_parent\"><img src=\"https://colab.research.google.com/assets/colab-badge.svg\" alt=\"Open In Colab\"/></a>"
      ]
    },
    {
      "cell_type": "code",
      "execution_count": 2,
      "metadata": {
        "colab": {
          "base_uri": "https://localhost:8080/"
        },
        "id": "__BZmXrmzLVs",
        "outputId": "5cafe7f1-519f-483e-8de0-7a2aa50c6b5d"
      },
      "outputs": [
        {
          "output_type": "stream",
          "name": "stdout",
          "text": [
            "[89, 45, 78, 12, 14, 23, 8, 45, 11]\n"
          ]
        }
      ],
      "source": [
        "l1=[11, 45, 8, 23, 14, 12, 78, 45, 89]\n",
        "l1.reverse()\n",
        "print(l1)"
      ]
    },
    {
      "cell_type": "code",
      "source": [
        "l2=[11,45,-5,-7,0,-8,21,8, 23, 14, 12, 78, 45, 89]\n",
        "l2.remove(l2[1])\n",
        "print(l2)\n",
        "\n"
      ],
      "metadata": {
        "colab": {
          "base_uri": "https://localhost:8080/"
        },
        "id": "uUClWbF87Ro1",
        "outputId": "801c54c9-2294-40e5-c809-f99e2adde2bb"
      },
      "execution_count": 11,
      "outputs": [
        {
          "output_type": "stream",
          "name": "stdout",
          "text": [
            "[11, -5, -7, 0, -8, 21, 8, 23, 14, 12, 78, 45, 89]\n"
          ]
        }
      ]
    },
    {
      "cell_type": "code",
      "source": [
        "birth_year= (input(\"enter you birthyear: \")) \n",
        "x=2022-int(birth_year)\n",
        "print(x)"
      ],
      "metadata": {
        "colab": {
          "base_uri": "https://localhost:8080/"
        },
        "id": "BGXNdZrE7D9A",
        "outputId": "90107cdf-8d54-412f-f094-c4fed9b972a2"
      },
      "execution_count": 4,
      "outputs": [
        {
          "output_type": "stream",
          "name": "stdout",
          "text": [
            "enter you birthyear: 1994\n",
            "28\n"
          ]
        }
      ]
    }
  ]
}
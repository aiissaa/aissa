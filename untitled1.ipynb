{
  "nbformat": 4,
  "nbformat_minor": 0,
  "metadata": {
    "colab": {
      "provenance": [],
      "authorship_tag": "ABX9TyOBuPxrWFha14Y9nOVS5YcM",
      "include_colab_link": true
    },
    "kernelspec": {
      "name": "python3",
      "display_name": "Python 3"
    },
    "language_info": {
      "name": "python"
    }
  },
  "cells": [
    {
      "cell_type": "markdown",
      "metadata": {
        "id": "view-in-github",
        "colab_type": "text"
      },
      "source": [
        "<a href=\"https://colab.research.google.com/github/aiissaa/aissa/blob/main/untitled1.ipynb\" target=\"_parent\"><img src=\"https://colab.research.google.com/assets/colab-badge.svg\" alt=\"Open In Colab\"/></a>"
      ]
    },
    {
      "cell_type": "markdown",
      "source": [
        "MASTER : data science pour l'économie et la finance\n",
        "\n",
        "aissa berrouhou\n",
        "\n",
        "Module : Langage de programmation\n",
        "\n",
        "Enacdré par : Dr. EL AACHAK Lotfi\n",
        "\n",
        "Atelier 2"
      ],
      "metadata": {
        "id": "1A6KdM2-NtJM"
      }
    },
    {
      "cell_type": "markdown",
      "source": [
        "1-Créer une liste en choisissant des éléments d'index impair dans la première liste et des éléments d'index pair dans la seconde. Étant donné deux listes, l1 et l2, écrivez un programme pour créer une troisième liste l3 en choisissant un élément d'indice impair dans la liste l1 et des éléments d'indice pair dans la liste l2."
      ],
      "metadata": {
        "id": "kWk8d2rsJyH7"
      }
    },
    {
      "cell_type": "code",
      "source": [
        "\n",
        "\n",
        "l1 = [0, 2, 4, 6, 8, 10, 12, 14, 16, 18]\n",
        "l2 = [1, 2, 3, 4, 5, 6, 7, 8, 9, 10]\n",
        "l3 = []\n",
        "for i in range(len(l1)):\n",
        "    if i % 2 != 0:\n",
        "        l3.append(l1[i])\n",
        "    if i % 2 == 0:\n",
        "        l3.append(l2[i])\n",
        "print(l3)\n",
        "     "
      ],
      "metadata": {
        "colab": {
          "base_uri": "https://localhost:8080/"
        },
        "id": "iANc57HQKB5V",
        "outputId": "68214fce-2821-42f6-c7a8-2f4e28240749"
      },
      "execution_count": 1,
      "outputs": [
        {
          "output_type": "stream",
          "name": "stdout",
          "text": [
            "[1, 2, 3, 6, 5, 10, 7, 14, 9, 18]\n"
          ]
        }
      ]
    },
    {
      "cell_type": "markdown",
      "source": [],
      "metadata": {
        "id": "i3D2JDanLV6U"
      }
    },
    {
      "cell_type": "markdown",
      "source": [
        "2-Deviser la liste en 3 morceaux égaux et inverser chaque morceau"
      ],
      "metadata": {
        "id": "iDWUE9odLYdC"
      }
    },
    {
      "cell_type": "code",
      "source": [
        "numbers = list(range(6, -1, -1))\n",
        "print(numbers)\n",
        "idx = len(numbers) - 1\n",
        "newList = []\n",
        "while (idx >= 0):\n",
        "  newList.append(numbers[idx])\n",
        "  idx = idx - 1\n",
        "print(newList)"
      ],
      "metadata": {
        "colab": {
          "base_uri": "https://localhost:8080/"
        },
        "id": "_BMSDW0AL22M",
        "outputId": "6fcdbdbe-c45e-4672-bde2-7dfd7233f8e1"
      },
      "execution_count": 3,
      "outputs": [
        {
          "output_type": "stream",
          "name": "stdout",
          "text": [
            "[6, 5, 4, 3, 2, 1, 0]\n",
            "[0, 1, 2, 3, 4, 5, 6]\n"
          ]
        }
      ]
    },
    {
      "cell_type": "markdown",
      "source": [
        "3-Écrire un programme pour itérer une liste donnée et compter l'occurrence de chaque élément et\n",
        "créer un dictionnaire pour montrer le nombre de chaque élément."
      ],
      "metadata": {
        "id": "fGR-p1jqMCLh"
      }
    },
    {
      "cell_type": "code",
      "source": [
        "\n",
        "\n",
        "from collections import defaultdict\n",
        "\n",
        "def count_occurrences(lst):\n",
        "  counts = defaultdict(int)\n",
        "  for item in lst:\n",
        "    counts[item] += 1\n",
        "  return counts\n",
        "lst = [1, 2, 3, 1, 2, 3, 1, 2, 3]\n",
        "counts = count_occurrences(lst)\n",
        "print(counts) \n",
        "     \n",
        "     "
      ],
      "metadata": {
        "colab": {
          "base_uri": "https://localhost:8080/"
        },
        "id": "cK-b6bY8ML17",
        "outputId": "ae8fd582-3a1e-47da-e6b6-15ec4b44bfbc"
      },
      "execution_count": 8,
      "outputs": [
        {
          "output_type": "stream",
          "name": "stdout",
          "text": [
            "defaultdict(<class 'int'>, {1: 3, 2: 3, 3: 3})\n"
          ]
        }
      ]
    },
    {
      "cell_type": "markdown",
      "source": [
        "4-Trouver l'intersection (commune) de deux Sets et supprimez ces éléments du premier Set"
      ],
      "metadata": {
        "id": "yiN0jOkRM1ls"
      }
    },
    {
      "cell_type": "code",
      "source": [
        "set1 = {1, 2, 3, 5, 6}\n",
        "set2 = {3, 4, 5, 6}\n",
        "intersection = set1.intersection(set2)\n",
        "set1 -= intersection\n",
        "print(set1) \n",
        "print(set2)\n",
        "     "
      ],
      "metadata": {
        "colab": {
          "base_uri": "https://localhost:8080/"
        },
        "id": "3c5qc4ibM4ZB",
        "outputId": "3dca3502-dec5-4be9-ce25-867a05452876"
      },
      "execution_count": 11,
      "outputs": [
        {
          "output_type": "stream",
          "name": "stdout",
          "text": [
            "{1, 2}\n",
            "{3, 4, 5, 6}\n"
          ]
        }
      ]
    },
    {
      "cell_type": "markdown",
      "source": [
        "5-Itérer une liste donnée et vérifier si un élément donné existe en tant que valeur de clé dans un dictionnaire. Sinon, supprimez-le de la liste"
      ],
      "metadata": {
        "id": "pAXBZykjNSMt"
      }
    },
    {
      "cell_type": "code",
      "source": [
        "\n",
        "def filter_list(lst, dictionary):\n",
        "  for item in lst:\n",
        "    if item not in dictionary:\n",
        "      lst.remove(item)\n",
        "  return lst\n",
        "lst = [1, 2, 3, 4, 5]\n",
        "dictionary = {1: \"a\", 2: \"b\", 3: \"c\"}\n",
        "filtered_list = filter_list(lst, dictionary)\n",
        "print(filtered_list) "
      ],
      "metadata": {
        "colab": {
          "base_uri": "https://localhost:8080/"
        },
        "id": "85KAUF9HNWe3",
        "outputId": "7cf6b360-df8a-448d-fc88-60019fb6a700"
      },
      "execution_count": 12,
      "outputs": [
        {
          "output_type": "stream",
          "name": "stdout",
          "text": [
            "[1, 2, 3, 5]\n"
          ]
        }
      ]
    },
    {
      "cell_type": "markdown",
      "source": [],
      "metadata": {
        "id": "BsV8LepXJvKi"
      }
    },
    {
      "cell_type": "markdown",
      "source": [],
      "metadata": {
        "id": "PmKizXGDJcFD"
      }
    }
  ]
}